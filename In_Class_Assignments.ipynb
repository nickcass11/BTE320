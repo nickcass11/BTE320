{
  "nbformat": 4,
  "nbformat_minor": 0,
  "metadata": {
    "colab": {
      "provenance": [],
      "authorship_tag": "ABX9TyNOWSOxDvDqdxIF3PXo8/px",
      "include_colab_link": true
    },
    "kernelspec": {
      "name": "python3",
      "display_name": "Python 3"
    },
    "language_info": {
      "name": "python"
    }
  },
  "cells": [
    {
      "cell_type": "markdown",
      "metadata": {
        "id": "view-in-github",
        "colab_type": "text"
      },
      "source": [
        "<a href=\"https://colab.research.google.com/github/nickcass11/BTE320/blob/main/In_Class_Assignments.ipynb\" target=\"_parent\"><img src=\"https://colab.research.google.com/assets/colab-badge.svg\" alt=\"Open In Colab\"/></a>"
      ]
    },
    {
      "cell_type": "markdown",
      "source": [
        "New input:\n",
        "1. Add input for tax rate\n",
        "\n",
        "New processes + outputs\n",
        " 1. Calculate taxes: gross profit * taxes\n",
        " 2. Net income = gross profit - taxes\n"
      ],
      "metadata": {
        "id": "PTfnzjv-FNYP"
      }
    },
    {
      "cell_type": "code",
      "source": [
        " # Inputs: sales ($) and COGS pct (%)\n",
        " Sales = input(\"Enter sales ($): \")\n",
        " Sales = float(Sales)\n",
        "\n",
        " COGS_pct = input(\"Enter Cost of Goods (%): \")\n",
        " COGS_pct = float(COGS_pct)\n",
        "\n",
        " Rate = input(\"Enter Tax Rate (%): \")\n",
        " Rate = float(Rate)\n",
        "\n",
        " # Processes: Calculate COGS and Gross Profit\n",
        " COGS = Sales * (COGS_pct / 100)\n",
        " Sales - COGS == GrossProfit\n",
        " Taxes = GrossProfit * (Rate / 100)\n",
        " NetIncome = GrossProfit - Taxes\n",
        "\n",
        " # Outputs: Display COGS and Gross Profit\n",
        " print(f\"Cost of Goods Sold: ${COGS}\")\n",
        " print(f\"Gross Profit: ${GrossProfit}\")\n",
        " print(f\"Taxes: ${Taxes}\")\n",
        " print(f\"Net Income: ${NetIncome}\")\n",
        "\n"
      ],
      "metadata": {
        "colab": {
          "base_uri": "https://localhost:8080/"
        },
        "id": "8CKxCJ0IB9Ml",
        "outputId": "74bbaa5c-c284-465b-d4c1-808d825e5216"
      },
      "execution_count": null,
      "outputs": [
        {
          "output_type": "stream",
          "name": "stdout",
          "text": [
            "Enter sales ($): 12000\n",
            "Enter Cost of Goods (%): 40\n",
            "Enter Tax Rate (%): 30\n",
            "Cost of Goods Sold: $4800.0\n",
            "Gross Profit: $7200.0\n",
            "Taxes: $2160.0\n",
            "Net Income: $5040.0\n"
          ]
        }
      ]
    },
    {
      "cell_type": "markdown",
      "source": [
        "Annual Demand, Reorder, Holding"
      ],
      "metadata": {
        "id": "TNYvQhI9t6E3"
      }
    },
    {
      "cell_type": "code",
      "source": [
        "# Inputs: Annual Demand, Reorder Cost, and Holding Cost\n",
        "AnnualDemand = int(input(\"Annual Demand: \"))\n",
        "ReorderCost = float(input(\"Reorder Cost ($/unit): \"))\n",
        "HoldingCost = float(input(\"Holding Cost ($/unit): \"))\n",
        "\n",
        "# Processes: EOQ Formula\n",
        "\n",
        "EOQ = (2*AnnualDemand*ReorderCost/HoldingCost)**(1/2)\n",
        "\n",
        "# Outputs: EOQ\n",
        "\n",
        "print(f\"Economic Order Quantity: {EOQ} units\")"
      ],
      "metadata": {
        "colab": {
          "base_uri": "https://localhost:8080/"
        },
        "id": "jhu9zUGNqh16",
        "outputId": "2c13da96-8ad1-44e8-98c5-3ceae2befdf6"
      },
      "execution_count": null,
      "outputs": [
        {
          "output_type": "stream",
          "name": "stdout",
          "text": [
            "Annual Demand: 1000\n",
            "Reorder Cost ($/unit): 50\n",
            "Holding Cost ($/unit): 10\n",
            "Economic Order Quantity: 100.0 units\n"
          ]
        }
      ]
    },
    {
      "cell_type": "markdown",
      "source": [
        "9/15: Calculator"
      ],
      "metadata": {
        "id": "63PKDeWyqbMu"
      }
    },
    {
      "cell_type": "code",
      "source": [
        "# Inputs: Calculator Setup\n",
        "\n",
        "x = float(input(\"Enter Number 1: \"))\n",
        "y = float(input(\"Enter Number 2: \"))\n",
        "Operator = input(\"Enter operator (+, -, *, /, //, %, **): \")\n",
        "\n",
        "# Processes: Calculator\n",
        "\n",
        "if Operator == \"+\":\n",
        "    Result = x + y\n",
        "elif Operator == \"-\":\n",
        "    Result = x - y\n",
        "elif Operator == \"*\":\n",
        "    Result = x * y\n",
        "elif Operator == \"/\":\n",
        "    Result = x / y\n",
        "elif Operator == \"//\":\n",
        "    Result = x // y\n",
        "elif Operator == \"%\":\n",
        "    Result = x % y\n",
        "elif Operator == \"**\":\n",
        "    Result = x ** y\n",
        "else:\n",
        "    Result = None\n",
        "    print(\"Invalid Operator\")\n",
        "\n",
        "#Outputs: Print Answer\n",
        "print(f\"{x} {Operator} {y} = {Result}\")"
      ],
      "metadata": {
        "colab": {
          "base_uri": "https://localhost:8080/"
        },
        "id": "CFPU7U40pzJ9",
        "outputId": "dc9c94d0-723d-4adc-9d1c-1e6c50904cca"
      },
      "execution_count": null,
      "outputs": [
        {
          "output_type": "stream",
          "name": "stdout",
          "text": [
            "Enter Number 1: 1\n",
            "Enter Number 2: 2\n",
            "Enter operator (+, -, *, /, //, %, **): #\n",
            "Invalid Operator\n",
            "1.0 # 2.0 = None\n"
          ]
        }
      ]
    },
    {
      "cell_type": "markdown",
      "source": [
        "Hourly Parking Rate"
      ],
      "metadata": {
        "id": "UGWOWYeMsrFQ"
      }
    },
    {
      "cell_type": "code",
      "source": [
        "for hour in range (1,9,1):\n",
        "  fee = 5 + 2.5 * hour\n",
        "  if fee < 10:\n",
        "    fee = 10.0\n",
        "  elif fee > 20:\n",
        "    fee = 20.0\n",
        "  print(hour, fee)\n",
        "\n"
      ],
      "metadata": {
        "id": "H3a72JbSs2QM",
        "colab": {
          "base_uri": "https://localhost:8080/"
        },
        "outputId": "98a8fe91-e379-405c-ea34-5d73ce203cbc"
      },
      "execution_count": null,
      "outputs": [
        {
          "output_type": "stream",
          "name": "stdout",
          "text": [
            "1 10.0\n",
            "2 10.0\n",
            "3 12.5\n",
            "4 15.0\n",
            "5 17.5\n",
            "6 20.0\n",
            "7 20.0\n",
            "8 20.0\n"
          ]
        }
      ]
    },
    {
      "cell_type": "markdown",
      "source": [
        "Movie Theater"
      ],
      "metadata": {
        "id": "kPy-wKwetfGZ"
      }
    },
    {
      "cell_type": "code",
      "source": [
        "print(\"Ad ($) Profit ($)\")\n",
        "for ad in range(0, 201, 25):\n",
        "  revenue = (20 + 2 * ad ** 0.5) * 10\n",
        "  costs = 200 + ad\n",
        "  profit = revenue - costs\n",
        "  print(f\"{ad} \\t {round(profit)}\")\n"
      ],
      "metadata": {
        "colab": {
          "base_uri": "https://localhost:8080/"
        },
        "id": "k0J7or3nwVCI",
        "outputId": "08ca3b4d-d375-49c9-f956-78abc91e5bbc"
      },
      "execution_count": null,
      "outputs": [
        {
          "output_type": "stream",
          "name": "stdout",
          "text": [
            "Ad ($) Profit ($)\n",
            "0 \t 0\n",
            "25 \t 75\n",
            "50 \t 91\n",
            "75 \t 98\n",
            "100 \t 100\n",
            "125 \t 99\n",
            "150 \t 95\n",
            "175 \t 90\n",
            "200 \t 83\n"
          ]
        }
      ]
    },
    {
      "cell_type": "markdown",
      "source": [
        "Append Items to List Iteratively"
      ],
      "metadata": {
        "id": "s3KGkqYLNZzC"
      }
    },
    {
      "cell_type": "code",
      "source": [
        "numbers = []\n",
        "num = float(input(\"Give a number: \"))\n",
        "\n",
        "while num != 0:\n",
        "  numbers.append(num)\n",
        "  num = float(input(\"Give a number: \"))\n",
        "\n",
        "numbers.sort(reverse=True)\n",
        "print(numbers)"
      ],
      "metadata": {
        "colab": {
          "base_uri": "https://localhost:8080/"
        },
        "id": "wqPfmiz7Ot2c",
        "outputId": "91206f1f-8699-4c00-f5c6-7ffe0cf765e2"
      },
      "execution_count": 23,
      "outputs": [
        {
          "output_type": "stream",
          "name": "stdout",
          "text": [
            "Give a number: 4\n",
            "Give a number: 5\n",
            "Give a number: 6\n",
            "Give a number: 3\n",
            "Give a number: 0\n",
            "[6.0, 5.0, 4.0, 3.0]\n"
          ]
        }
      ]
    }
  ]
}