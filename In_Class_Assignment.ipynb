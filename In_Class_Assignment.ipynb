{
  "nbformat": 4,
  "nbformat_minor": 0,
  "metadata": {
    "colab": {
      "provenance": [],
      "authorship_tag": "ABX9TyNKJG3i1MeJoDhE4vSotk/5",
      "include_colab_link": true
    },
    "kernelspec": {
      "name": "python3",
      "display_name": "Python 3"
    },
    "language_info": {
      "name": "python"
    }
  },
  "cells": [
    {
      "cell_type": "markdown",
      "metadata": {
        "id": "view-in-github",
        "colab_type": "text"
      },
      "source": [
        "<a href=\"https://colab.research.google.com/github/nickcass11/BTE320/blob/main/In_Class_Assignment.ipynb\" target=\"_parent\"><img src=\"https://colab.research.google.com/assets/colab-badge.svg\" alt=\"Open In Colab\"/></a>"
      ]
    },
    {
      "cell_type": "code",
      "execution_count": 13,
      "metadata": {
        "colab": {
          "base_uri": "https://localhost:8080/"
        },
        "id": "oPKoaw65-dqZ",
        "outputId": "3ad84700-3b67-4603-a77a-33b04a38e4e8"
      },
      "outputs": [
        {
          "output_type": "stream",
          "name": "stdout",
          "text": [
            "Enter sales: 12000\n",
            "COGS:  4800.0\n",
            "Gross Profit = 7200.0\n",
            "Taxes = 2160.0\n",
            "Net Income = 5040.0\n"
          ]
        }
      ],
      "source": [
        "# A company calculates Gross Profit as Sales - COGS\n",
        "# COGS is assumed to be 40% of Sales\n",
        "Sales = input(\"Enter sales: \")\n",
        "Sales = float(Sales)\n",
        "COGS = Sales * 0.4\n",
        "COGS = float(COGS)\n",
        "print(\"COGS: \", COGS)\n",
        "GrossProfit = Sales - COGS\n",
        "print(\"Gross Profit =\", GrossProfit)\n",
        "\n",
        "# To account for Taxes (30%) and Net Income\n",
        "Taxes = GrossProfit * 0.3\n",
        "print(\"Taxes =\", Taxes)\n",
        "NetIncome = GrossProfit - Taxes\n",
        "print(\"Net Income =\", NetIncome)"
      ]
    },
    {
      "cell_type": "markdown",
      "source": [
        "New input:\n",
        "1. Add input for tax rate\n",
        "\n",
        "New processes + outputs\n",
        " 1. Calculate taxes: gross profit * taxes\n",
        " 2. Net income = gross profit - taxes\n"
      ],
      "metadata": {
        "id": "PTfnzjv-FNYP"
      }
    },
    {
      "cell_type": "code",
      "source": [
        " # Inputs: sales ($) and COGS pct (%)\n",
        " Sales = input(\"Enter sales ($): \")\n",
        " Sales = float(Sales)\n",
        "\n",
        " COGS_pct = input(\"Enter Cost of Goods (%): \")\n",
        " COGS_pct = float(COGS_pct)\n",
        "\n",
        " Rate = input(\"Enter Tax Rate (%): \")\n",
        " Rate = float(Rate)\n",
        "\n",
        " # Processes: Calculate COGS and Gross Profit\n",
        " COGS = Sales * (COGS_pct / 100)\n",
        " Sales - COGS == GrossProfit\n",
        " Taxes = GrossProfit * (Rate / 100)\n",
        " NetIncome = GrossProfit - Taxes\n",
        "\n",
        " # Outputs: Display COGS and Gross Profit\n",
        " print(f\"Cost of Goods Sold: ${COGS}\")\n",
        " print(f\"Gross Profit: ${GrossProfit}\")\n",
        " print(f\"Taxes: ${Taxes}\")\n",
        " print(f\"Net Income: ${NetIncome}\")\n",
        "\n"
      ],
      "metadata": {
        "colab": {
          "base_uri": "https://localhost:8080/"
        },
        "id": "8CKxCJ0IB9Ml",
        "outputId": "74bbaa5c-c284-465b-d4c1-808d825e5216"
      },
      "execution_count": 42,
      "outputs": [
        {
          "output_type": "stream",
          "name": "stdout",
          "text": [
            "Enter sales ($): 12000\n",
            "Enter Cost of Goods (%): 40\n",
            "Enter Tax Rate (%): 30\n",
            "Cost of Goods Sold: $4800.0\n",
            "Gross Profit: $7200.0\n",
            "Taxes: $2160.0\n",
            "Net Income: $5040.0\n"
          ]
        }
      ]
    },
    {
      "cell_type": "code",
      "source": [],
      "metadata": {
        "id": "EkzakYtNFJo8"
      },
      "execution_count": null,
      "outputs": []
    }
  ]
}